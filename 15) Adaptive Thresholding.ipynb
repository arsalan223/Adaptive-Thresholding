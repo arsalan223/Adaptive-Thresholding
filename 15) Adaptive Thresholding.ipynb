{
 "cells": [
  {
   "cell_type": "code",
   "execution_count": 1,
   "metadata": {},
   "outputs": [],
   "source": [
    "import cv2 as cv"
   ]
  },
  {
   "cell_type": "markdown",
   "metadata": {},
   "source": [
    "# Adaptive Thresholding (Mean & Gaussian)"
   ]
  },
  {
   "cell_type": "code",
   "execution_count": 60,
   "metadata": {},
   "outputs": [],
   "source": [
    "img = cv.imread('sudoku.png', 0)\n",
    "\n",
    "_, simple_thresh1 = cv.threshold(img, 80, 255, cv.THRESH_BINARY) #for comparision\n",
    "adaptive_thresh_mean = cv.adaptiveThreshold(img, 255, cv.ADAPTIVE_THRESH_MEAN_C, cv.THRESH_BINARY, 11, 2) #arg1=src, arg2=max_value(set in output image), arg3=adaptiveMethod(to calculate thresh_value), arg4=type of thresholding, arg5=blockSize(to calculate mean of neighbor pixels), arg6=a constant value to be subtracted from mean of neighbor pixels to get thresh_value.  \n",
    "adaptive_thresh_gaussian = cv.adaptiveThreshold(img, 255, cv.ADAPTIVE_THRESH_GAUSSIAN_C, cv.THRESH_BINARY, 11, 2) \n",
    "\n",
    "cv.imshow('img', img)\n",
    "cv.imshow('simple_thresh1', simple_thresh1)\n",
    "cv.imshow('adaptive_thresh_mean', adaptive_thresh_mean)\n",
    "cv.imshow('adaptive_thresh_gaussian', adaptive_thresh_gaussian)\n",
    "cv.waitKey(0)\n",
    "cv.destroyAllWindows()"
   ]
  },
  {
   "cell_type": "code",
   "execution_count": null,
   "metadata": {},
   "outputs": [],
   "source": []
  }
 ],
 "metadata": {
  "kernelspec": {
   "display_name": "Python 3",
   "language": "python",
   "name": "python3"
  },
  "language_info": {
   "codemirror_mode": {
    "name": "ipython",
    "version": 3
   },
   "file_extension": ".py",
   "mimetype": "text/x-python",
   "name": "python",
   "nbconvert_exporter": "python",
   "pygments_lexer": "ipython3",
   "version": "3.8.1"
  }
 },
 "nbformat": 4,
 "nbformat_minor": 4
}
